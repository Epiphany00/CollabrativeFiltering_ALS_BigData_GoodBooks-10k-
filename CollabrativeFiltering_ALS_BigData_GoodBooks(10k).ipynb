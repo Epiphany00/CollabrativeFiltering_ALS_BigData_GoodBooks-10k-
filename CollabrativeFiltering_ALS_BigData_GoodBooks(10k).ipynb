{
 "cells": [
  {
   "cell_type": "code",
   "execution_count": 1,
   "metadata": {},
   "outputs": [],
   "source": [
    "from pyspark import SparkConf\n",
    "from pyspark import SparkContext"
   ]
  },
  {
   "cell_type": "code",
   "execution_count": 2,
   "metadata": {},
   "outputs": [
    {
     "name": "stdout",
     "output_type": "stream",
     "text": [
      "Hostname :   DESKTOP-9AL8KCH\n",
      "IP :  192.168.1.34\n"
     ]
    }
   ],
   "source": [
    "import socket \n",
    "def get_Host_name_IP(): \n",
    "    try: \n",
    "        host_name = socket.gethostname() \n",
    "        host_ip = socket.gethostbyname(host_name) \n",
    "        print(\"Hostname :  \",host_name) \n",
    "        print(\"IP : \",host_ip) \n",
    "    except: \n",
    "        print(\"Unable to get Hostname and IP\") \n",
    "  \n",
    "# Driver code \n",
    "get_Host_name_IP() #Function call"
   ]
  },
  {
   "cell_type": "code",
   "execution_count": 3,
   "metadata": {},
   "outputs": [],
   "source": [
    "import pyspark as ps\n",
    "from pyspark.sql.functions import col, explode\n",
    "from pyspark.sql import SQLContext\n",
    "from pyspark.ml.evaluation import RegressionEvaluator\n",
    "from pyspark.ml.tuning import CrossValidator , ParamGridBuilder\n",
    "from pyspark.ml import Pipeline\n",
    "from pyspark.sql import Row\n",
    "from pyspark.ml.recommendation import ALS\n",
    "from pyspark.sql.functions import udf, col, when\n",
    "import numpy as np\n",
    "import findspark\n",
    "findspark.init(\"C:\\BigDataLocal\\spark-2.4.7-bin-hadoop2.7\")"
   ]
  },
  {
   "cell_type": "code",
   "execution_count": 4,
   "metadata": {},
   "outputs": [],
   "source": [
    "#to show all predicte book image\n",
    "from IPython.display import Image\n",
    "from IPython.display import display\n",
    "#create  a spark session \n",
    "#create a spark context\n",
    "spark=ps.sql.SparkSession.builder.master(\"local\").appName(\"Demo\").getOrCreate()\n",
    "sc=spark.sparkContext\n",
    "sqlContext=SQLContext(sc)"
   ]
  },
  {
   "cell_type": "code",
   "execution_count": 6,
   "metadata": {},
   "outputs": [
    {
     "data": {
      "text/html": [
       "        <script type=\"text/javascript\">\n",
       "        window.PlotlyConfig = {MathJaxConfig: 'local'};\n",
       "        if (window.MathJax) {MathJax.Hub.Config({SVG: {font: \"STIX-Web\"}});}\n",
       "        if (typeof require !== 'undefined') {\n",
       "        require.undef(\"plotly\");\n",
       "        requirejs.config({\n",
       "            paths: {\n",
       "                'plotly': ['https://cdn.plot.ly/plotly-latest.min']\n",
       "            }\n",
       "        });\n",
       "        require(['plotly'], function(Plotly) {\n",
       "            window._Plotly = Plotly;\n",
       "        });\n",
       "        }\n",
       "        </script>\n",
       "        "
      ]
     },
     "metadata": {},
     "output_type": "display_data"
    }
   ],
   "source": [
    "#import libraries\n",
    "import numpy as np # linear algebra\n",
    "import pandas as pd \n",
    "import seaborn as sns\n",
    "# plotly\n",
    "# import plotly.plotly as py\n",
    "from plotly.offline import init_notebook_mode, iplot, plot\n",
    "import plotly as py\n",
    "init_notebook_mode(connected=True) #offline modela ilgili\n",
    "import plotly.graph_objs as go\n",
    "from wordcloud import WordCloud\n",
    "# matplotlib\n",
    "import matplotlib.pyplot as plt\n",
    "\n",
    "import os\n",
    "\n",
    "# Any results you write to the current directory are saved as output."
   ]
  },
  {
   "cell_type": "code",
   "execution_count": 7,
   "metadata": {},
   "outputs": [],
   "source": [
    "book_tags = pd.read_csv('dataset/book_tags.csv',encoding=\"Latin1\")\n",
    "books = pd.read_csv('dataset/books.csv', encoding=\"Latin1\")\n",
    "ratings = pd.read_csv('dataset/ratings.csv',encoding=\"Latin1\")\n",
    "tags = pd.read_csv('dataset/tags.csv', encoding=\"Latin1\")\n",
    "to_read = pd.read_csv('dataset/to_read.csv',encoding=\"Latin1\")"
   ]
  },
  {
   "cell_type": "code",
   "execution_count": 8,
   "metadata": {
    "scrolled": true
   },
   "outputs": [
    {
     "name": "stdout",
     "output_type": "stream",
     "text": [
      "root\n",
      " |-- book_id: integer (nullable = true)\n",
      " |-- user_id: integer (nullable = true)\n",
      " |-- rating: integer (nullable = true)\n",
      "\n"
     ]
    }
   ],
   "source": [
    "ratings_df = spark.read.csv('dataset/ratings.csv',header=True,  inferSchema=True)\n",
    "ratings_df.printSchema()\n",
    "\n",
    "books_df=spark.read.csv('dataset/books.csv',header=True, inferSchema=True)"
   ]
  },
  {
   "cell_type": "code",
   "execution_count": 9,
   "metadata": {
    "scrolled": true
   },
   "outputs": [
    {
     "name": "stdout",
     "output_type": "stream",
     "text": [
      "+-------+-------+------+\n",
      "|book_id|user_id|rating|\n",
      "+-------+-------+------+\n",
      "|      1|    314|     5|\n",
      "|      1|    439|     3|\n",
      "|      1|    588|     5|\n",
      "|      1|   1169|     4|\n",
      "|      1|   1185|     4|\n",
      "+-------+-------+------+\n",
      "only showing top 5 rows\n",
      "\n"
     ]
    }
   ],
   "source": [
    "ratings_df.show(5)"
   ]
  },
  {
   "cell_type": "code",
   "execution_count": 10,
   "metadata": {
    "scrolled": false
   },
   "outputs": [
    {
     "data": {
      "text/html": [
       "<div>\n",
       "<style scoped>\n",
       "    .dataframe tbody tr th:only-of-type {\n",
       "        vertical-align: middle;\n",
       "    }\n",
       "\n",
       "    .dataframe tbody tr th {\n",
       "        vertical-align: top;\n",
       "    }\n",
       "\n",
       "    .dataframe thead th {\n",
       "        text-align: right;\n",
       "    }\n",
       "</style>\n",
       "<table border=\"1\" class=\"dataframe\">\n",
       "  <thead>\n",
       "    <tr style=\"text-align: right;\">\n",
       "      <th></th>\n",
       "      <th>id</th>\n",
       "      <th>book_id</th>\n",
       "      <th>best_book_id</th>\n",
       "      <th>work_id</th>\n",
       "      <th>books_count</th>\n",
       "      <th>isbn</th>\n",
       "      <th>isbn13</th>\n",
       "      <th>authors</th>\n",
       "      <th>original_publication_year</th>\n",
       "      <th>original_title</th>\n",
       "      <th>...</th>\n",
       "      <th>ratings_count</th>\n",
       "      <th>work_ratings_count</th>\n",
       "      <th>work_text_reviews_count</th>\n",
       "      <th>ratings_1</th>\n",
       "      <th>ratings_2</th>\n",
       "      <th>ratings_3</th>\n",
       "      <th>ratings_4</th>\n",
       "      <th>ratings_5</th>\n",
       "      <th>image_url</th>\n",
       "      <th>small_image_url</th>\n",
       "    </tr>\n",
       "  </thead>\n",
       "  <tbody>\n",
       "    <tr>\n",
       "      <th>0</th>\n",
       "      <td>1</td>\n",
       "      <td>2767052</td>\n",
       "      <td>2767052</td>\n",
       "      <td>2792775</td>\n",
       "      <td>272</td>\n",
       "      <td>439023483</td>\n",
       "      <td>9.780439e+12</td>\n",
       "      <td>Suzanne Collins</td>\n",
       "      <td>2008.0</td>\n",
       "      <td>The Hunger Games</td>\n",
       "      <td>...</td>\n",
       "      <td>4780653</td>\n",
       "      <td>4942365</td>\n",
       "      <td>155254</td>\n",
       "      <td>66715</td>\n",
       "      <td>127936</td>\n",
       "      <td>560092</td>\n",
       "      <td>1481305</td>\n",
       "      <td>2706317</td>\n",
       "      <td>https://images.gr-assets.com/books/1447303603m...</td>\n",
       "      <td>https://images.gr-assets.com/books/1447303603s...</td>\n",
       "    </tr>\n",
       "    <tr>\n",
       "      <th>1</th>\n",
       "      <td>2</td>\n",
       "      <td>3</td>\n",
       "      <td>3</td>\n",
       "      <td>4640799</td>\n",
       "      <td>491</td>\n",
       "      <td>439554934</td>\n",
       "      <td>9.780440e+12</td>\n",
       "      <td>J.K. Rowling, Mary GrandPrÃ©</td>\n",
       "      <td>1997.0</td>\n",
       "      <td>Harry Potter and the Philosopher's Stone</td>\n",
       "      <td>...</td>\n",
       "      <td>4602479</td>\n",
       "      <td>4800065</td>\n",
       "      <td>75867</td>\n",
       "      <td>75504</td>\n",
       "      <td>101676</td>\n",
       "      <td>455024</td>\n",
       "      <td>1156318</td>\n",
       "      <td>3011543</td>\n",
       "      <td>https://images.gr-assets.com/books/1474154022m...</td>\n",
       "      <td>https://images.gr-assets.com/books/1474154022s...</td>\n",
       "    </tr>\n",
       "  </tbody>\n",
       "</table>\n",
       "<p>2 rows × 23 columns</p>\n",
       "</div>"
      ],
      "text/plain": [
       "   id  book_id  best_book_id  work_id  books_count       isbn        isbn13  \\\n",
       "0   1  2767052       2767052  2792775          272  439023483  9.780439e+12   \n",
       "1   2        3             3  4640799          491  439554934  9.780440e+12   \n",
       "\n",
       "                        authors  original_publication_year  \\\n",
       "0               Suzanne Collins                     2008.0   \n",
       "1  J.K. Rowling, Mary GrandPrÃ©                     1997.0   \n",
       "\n",
       "                             original_title  ... ratings_count  \\\n",
       "0                          The Hunger Games  ...       4780653   \n",
       "1  Harry Potter and the Philosopher's Stone  ...       4602479   \n",
       "\n",
       "  work_ratings_count  work_text_reviews_count  ratings_1  ratings_2  \\\n",
       "0            4942365                   155254      66715     127936   \n",
       "1            4800065                    75867      75504     101676   \n",
       "\n",
       "   ratings_3  ratings_4  ratings_5  \\\n",
       "0     560092    1481305    2706317   \n",
       "1     455024    1156318    3011543   \n",
       "\n",
       "                                           image_url  \\\n",
       "0  https://images.gr-assets.com/books/1447303603m...   \n",
       "1  https://images.gr-assets.com/books/1474154022m...   \n",
       "\n",
       "                                     small_image_url  \n",
       "0  https://images.gr-assets.com/books/1447303603s...  \n",
       "1  https://images.gr-assets.com/books/1474154022s...  \n",
       "\n",
       "[2 rows x 23 columns]"
      ]
     },
     "execution_count": 10,
     "metadata": {},
     "output_type": "execute_result"
    }
   ],
   "source": [
    "books.head(2)"
   ]
  },
  {
   "cell_type": "code",
   "execution_count": 11,
   "metadata": {},
   "outputs": [
    {
     "data": {
      "text/html": [
       "<div>\n",
       "<style scoped>\n",
       "    .dataframe tbody tr th:only-of-type {\n",
       "        vertical-align: middle;\n",
       "    }\n",
       "\n",
       "    .dataframe tbody tr th {\n",
       "        vertical-align: top;\n",
       "    }\n",
       "\n",
       "    .dataframe thead th {\n",
       "        text-align: right;\n",
       "    }\n",
       "</style>\n",
       "<table border=\"1\" class=\"dataframe\">\n",
       "  <thead>\n",
       "    <tr style=\"text-align: right;\">\n",
       "      <th></th>\n",
       "      <th>id</th>\n",
       "      <th>book_id</th>\n",
       "      <th>best_book_id</th>\n",
       "      <th>work_id</th>\n",
       "      <th>books_count</th>\n",
       "      <th>isbn13</th>\n",
       "      <th>original_publication_year</th>\n",
       "      <th>average_rating</th>\n",
       "      <th>ratings_count</th>\n",
       "      <th>work_ratings_count</th>\n",
       "      <th>work_text_reviews_count</th>\n",
       "      <th>ratings_1</th>\n",
       "      <th>ratings_2</th>\n",
       "      <th>ratings_3</th>\n",
       "      <th>ratings_4</th>\n",
       "      <th>ratings_5</th>\n",
       "    </tr>\n",
       "  </thead>\n",
       "  <tbody>\n",
       "    <tr>\n",
       "      <th>count</th>\n",
       "      <td>10000.00000</td>\n",
       "      <td>1.000000e+04</td>\n",
       "      <td>1.000000e+04</td>\n",
       "      <td>1.000000e+04</td>\n",
       "      <td>10000.000000</td>\n",
       "      <td>9.415000e+03</td>\n",
       "      <td>9979.000000</td>\n",
       "      <td>10000.000000</td>\n",
       "      <td>1.000000e+04</td>\n",
       "      <td>1.000000e+04</td>\n",
       "      <td>10000.000000</td>\n",
       "      <td>10000.000000</td>\n",
       "      <td>10000.000000</td>\n",
       "      <td>10000.000000</td>\n",
       "      <td>1.000000e+04</td>\n",
       "      <td>1.000000e+04</td>\n",
       "    </tr>\n",
       "    <tr>\n",
       "      <th>mean</th>\n",
       "      <td>5000.50000</td>\n",
       "      <td>5.264697e+06</td>\n",
       "      <td>5.471214e+06</td>\n",
       "      <td>8.646183e+06</td>\n",
       "      <td>75.712700</td>\n",
       "      <td>9.755044e+12</td>\n",
       "      <td>1981.987674</td>\n",
       "      <td>4.002191</td>\n",
       "      <td>5.400124e+04</td>\n",
       "      <td>5.968732e+04</td>\n",
       "      <td>2919.955300</td>\n",
       "      <td>1345.040600</td>\n",
       "      <td>3110.885000</td>\n",
       "      <td>11475.893800</td>\n",
       "      <td>1.996570e+04</td>\n",
       "      <td>2.378981e+04</td>\n",
       "    </tr>\n",
       "    <tr>\n",
       "      <th>std</th>\n",
       "      <td>2886.89568</td>\n",
       "      <td>7.575462e+06</td>\n",
       "      <td>7.827330e+06</td>\n",
       "      <td>1.175106e+07</td>\n",
       "      <td>170.470728</td>\n",
       "      <td>4.428619e+11</td>\n",
       "      <td>152.576665</td>\n",
       "      <td>0.254427</td>\n",
       "      <td>1.573700e+05</td>\n",
       "      <td>1.678038e+05</td>\n",
       "      <td>6124.378132</td>\n",
       "      <td>6635.626263</td>\n",
       "      <td>9717.123578</td>\n",
       "      <td>28546.449183</td>\n",
       "      <td>5.144736e+04</td>\n",
       "      <td>7.976889e+04</td>\n",
       "    </tr>\n",
       "    <tr>\n",
       "      <th>min</th>\n",
       "      <td>1.00000</td>\n",
       "      <td>1.000000e+00</td>\n",
       "      <td>1.000000e+00</td>\n",
       "      <td>8.700000e+01</td>\n",
       "      <td>1.000000</td>\n",
       "      <td>1.951703e+08</td>\n",
       "      <td>-1750.000000</td>\n",
       "      <td>2.470000</td>\n",
       "      <td>2.716000e+03</td>\n",
       "      <td>5.510000e+03</td>\n",
       "      <td>3.000000</td>\n",
       "      <td>11.000000</td>\n",
       "      <td>30.000000</td>\n",
       "      <td>323.000000</td>\n",
       "      <td>7.500000e+02</td>\n",
       "      <td>7.540000e+02</td>\n",
       "    </tr>\n",
       "    <tr>\n",
       "      <th>25%</th>\n",
       "      <td>2500.75000</td>\n",
       "      <td>4.627575e+04</td>\n",
       "      <td>4.791175e+04</td>\n",
       "      <td>1.008841e+06</td>\n",
       "      <td>23.000000</td>\n",
       "      <td>9.780316e+12</td>\n",
       "      <td>1990.000000</td>\n",
       "      <td>3.850000</td>\n",
       "      <td>1.356875e+04</td>\n",
       "      <td>1.543875e+04</td>\n",
       "      <td>694.000000</td>\n",
       "      <td>196.000000</td>\n",
       "      <td>656.000000</td>\n",
       "      <td>3112.000000</td>\n",
       "      <td>5.405750e+03</td>\n",
       "      <td>5.334000e+03</td>\n",
       "    </tr>\n",
       "    <tr>\n",
       "      <th>50%</th>\n",
       "      <td>5000.50000</td>\n",
       "      <td>3.949655e+05</td>\n",
       "      <td>4.251235e+05</td>\n",
       "      <td>2.719524e+06</td>\n",
       "      <td>40.000000</td>\n",
       "      <td>9.780452e+12</td>\n",
       "      <td>2004.000000</td>\n",
       "      <td>4.020000</td>\n",
       "      <td>2.115550e+04</td>\n",
       "      <td>2.383250e+04</td>\n",
       "      <td>1402.000000</td>\n",
       "      <td>391.000000</td>\n",
       "      <td>1163.000000</td>\n",
       "      <td>4894.000000</td>\n",
       "      <td>8.269500e+03</td>\n",
       "      <td>8.836000e+03</td>\n",
       "    </tr>\n",
       "    <tr>\n",
       "      <th>75%</th>\n",
       "      <td>7500.25000</td>\n",
       "      <td>9.382225e+06</td>\n",
       "      <td>9.636112e+06</td>\n",
       "      <td>1.451775e+07</td>\n",
       "      <td>67.000000</td>\n",
       "      <td>9.780831e+12</td>\n",
       "      <td>2011.000000</td>\n",
       "      <td>4.180000</td>\n",
       "      <td>4.105350e+04</td>\n",
       "      <td>4.591500e+04</td>\n",
       "      <td>2744.250000</td>\n",
       "      <td>885.000000</td>\n",
       "      <td>2353.250000</td>\n",
       "      <td>9287.000000</td>\n",
       "      <td>1.602350e+04</td>\n",
       "      <td>1.730450e+04</td>\n",
       "    </tr>\n",
       "    <tr>\n",
       "      <th>max</th>\n",
       "      <td>10000.00000</td>\n",
       "      <td>3.328864e+07</td>\n",
       "      <td>3.553423e+07</td>\n",
       "      <td>5.639960e+07</td>\n",
       "      <td>3455.000000</td>\n",
       "      <td>9.790008e+12</td>\n",
       "      <td>2017.000000</td>\n",
       "      <td>4.820000</td>\n",
       "      <td>4.780653e+06</td>\n",
       "      <td>4.942365e+06</td>\n",
       "      <td>155254.000000</td>\n",
       "      <td>456191.000000</td>\n",
       "      <td>436802.000000</td>\n",
       "      <td>793319.000000</td>\n",
       "      <td>1.481305e+06</td>\n",
       "      <td>3.011543e+06</td>\n",
       "    </tr>\n",
       "  </tbody>\n",
       "</table>\n",
       "</div>"
      ],
      "text/plain": [
       "                id       book_id  best_book_id       work_id   books_count  \\\n",
       "count  10000.00000  1.000000e+04  1.000000e+04  1.000000e+04  10000.000000   \n",
       "mean    5000.50000  5.264697e+06  5.471214e+06  8.646183e+06     75.712700   \n",
       "std     2886.89568  7.575462e+06  7.827330e+06  1.175106e+07    170.470728   \n",
       "min        1.00000  1.000000e+00  1.000000e+00  8.700000e+01      1.000000   \n",
       "25%     2500.75000  4.627575e+04  4.791175e+04  1.008841e+06     23.000000   \n",
       "50%     5000.50000  3.949655e+05  4.251235e+05  2.719524e+06     40.000000   \n",
       "75%     7500.25000  9.382225e+06  9.636112e+06  1.451775e+07     67.000000   \n",
       "max    10000.00000  3.328864e+07  3.553423e+07  5.639960e+07   3455.000000   \n",
       "\n",
       "             isbn13  original_publication_year  average_rating  ratings_count  \\\n",
       "count  9.415000e+03                9979.000000    10000.000000   1.000000e+04   \n",
       "mean   9.755044e+12                1981.987674        4.002191   5.400124e+04   \n",
       "std    4.428619e+11                 152.576665        0.254427   1.573700e+05   \n",
       "min    1.951703e+08               -1750.000000        2.470000   2.716000e+03   \n",
       "25%    9.780316e+12                1990.000000        3.850000   1.356875e+04   \n",
       "50%    9.780452e+12                2004.000000        4.020000   2.115550e+04   \n",
       "75%    9.780831e+12                2011.000000        4.180000   4.105350e+04   \n",
       "max    9.790008e+12                2017.000000        4.820000   4.780653e+06   \n",
       "\n",
       "       work_ratings_count  work_text_reviews_count      ratings_1  \\\n",
       "count        1.000000e+04             10000.000000   10000.000000   \n",
       "mean         5.968732e+04              2919.955300    1345.040600   \n",
       "std          1.678038e+05              6124.378132    6635.626263   \n",
       "min          5.510000e+03                 3.000000      11.000000   \n",
       "25%          1.543875e+04               694.000000     196.000000   \n",
       "50%          2.383250e+04              1402.000000     391.000000   \n",
       "75%          4.591500e+04              2744.250000     885.000000   \n",
       "max          4.942365e+06            155254.000000  456191.000000   \n",
       "\n",
       "           ratings_2      ratings_3     ratings_4     ratings_5  \n",
       "count   10000.000000   10000.000000  1.000000e+04  1.000000e+04  \n",
       "mean     3110.885000   11475.893800  1.996570e+04  2.378981e+04  \n",
       "std      9717.123578   28546.449183  5.144736e+04  7.976889e+04  \n",
       "min        30.000000     323.000000  7.500000e+02  7.540000e+02  \n",
       "25%       656.000000    3112.000000  5.405750e+03  5.334000e+03  \n",
       "50%      1163.000000    4894.000000  8.269500e+03  8.836000e+03  \n",
       "75%      2353.250000    9287.000000  1.602350e+04  1.730450e+04  \n",
       "max    436802.000000  793319.000000  1.481305e+06  3.011543e+06  "
      ]
     },
     "execution_count": 11,
     "metadata": {},
     "output_type": "execute_result"
    }
   ],
   "source": [
    "books.describe()"
   ]
  },
  {
   "cell_type": "code",
   "execution_count": 12,
   "metadata": {},
   "outputs": [
    {
     "name": "stdout",
     "output_type": "stream",
     "text": [
      "Number Of Books:  id                           10000\n",
      "book_id                      10000\n",
      "best_book_id                 10000\n",
      "work_id                      10000\n",
      "books_count                  10000\n",
      "isbn                          9300\n",
      "isbn13                        9415\n",
      "authors                      10000\n",
      "original_publication_year     9979\n",
      "original_title                9415\n",
      "title                        10000\n",
      "language_code                 8916\n",
      "average_rating               10000\n",
      "ratings_count                10000\n",
      "work_ratings_count           10000\n",
      "work_text_reviews_count      10000\n",
      "ratings_1                    10000\n",
      "ratings_2                    10000\n",
      "ratings_3                    10000\n",
      "ratings_4                    10000\n",
      "ratings_5                    10000\n",
      "image_url                    10000\n",
      "small_image_url              10000\n",
      "dtype: int64\n"
     ]
    }
   ],
   "source": [
    "num_book=books.count()\n",
    "print('Number Of Books: ', num_book)"
   ]
  },
  {
   "cell_type": "code",
   "execution_count": 13,
   "metadata": {},
   "outputs": [
    {
     "data": {
      "text/plain": [
       "(10000, 23)"
      ]
     },
     "execution_count": 13,
     "metadata": {},
     "output_type": "execute_result"
    }
   ],
   "source": [
    "books.shape"
   ]
  },
  {
   "cell_type": "code",
   "execution_count": 14,
   "metadata": {},
   "outputs": [
    {
     "data": {
      "image/png": "[encoded data removed]",
      "text/plain": [
       "<Figure size 2160x1440 with 1 Axes>"
      ]
     },
     "metadata": {
      "needs_background": "light"
     },
     "output_type": "display_data"
    }
   ],
   "source": [
    "# the avarage reviews that given authors on goodreads.\n",
    "df = books.work_text_reviews_count>60000\n",
    "books_newdata2=books[df]\n",
    "melted_books2= pd.melt(frame=books_newdata2,id_vars='authors',value_vars='work_text_reviews_count')\n",
    "reviews_list= list(melted_books2['authors'].unique())\n",
    "author_reviews_ratio=[]\n",
    "\n",
    "for i in reviews_list:\n",
    "    x= melted_books2[melted_books2['authors']==i]\n",
    "    author_reviews_ratio_rate=sum(x.value)/len(x)\n",
    "    author_reviews_ratio.append(  author_reviews_ratio_rate)\n",
    "\n",
    "data = pd.DataFrame({'reviews_list':reviews_list,'author_reviews_ratio':author_reviews_ratio})\n",
    "new_index = (data['author_reviews_ratio'].sort_values(ascending=False)).index.values\n",
    "sorted_data2 = data.reindex(new_index)\n",
    "\n",
    "#visualization\n",
    "plt.figure(figsize=(30,20))\n",
    "sns.barplot(x=sorted_data2['reviews_list'],y=sorted_data2['author_reviews_ratio'])\n",
    "plt.xticks(rotation= 90,size='20')\n",
    "plt.xlabel('Authors',size='30')\n",
    "plt.ylabel('Avarage Reviews',size='30')\n",
    "plt.title('Avarage Reviews Given Authors(top14)',color='purple',size='50')\n",
    "plt.show()"
   ]
  },
  {
   "cell_type": "code",
   "execution_count": 15,
   "metadata": {},
   "outputs": [
    {
     "data": {
      "image/png": "[encoded data removed]",
      "text/plain": [
       "<Figure size 576x360 with 1 Axes>"
      ]
     },
     "metadata": {
      "needs_background": "light"
     },
     "output_type": "display_data"
    }
   ],
   "source": [
    "data3=books.head(6)\n",
    "sta = books.average_rating.value_counts().index[:10]  \n",
    "plt.figure(figsize = (8,5))\n",
    "sns.barplot(x=sta,y =books.average_rating.value_counts().values[:10]) \n",
    "plt.title('Avarage Ratings of First 10 Books ',color = 'blue',fontsize=15)\n",
    "plt.show()"
   ]
  },
  {
   "cell_type": "code",
   "execution_count": 16,
   "metadata": {},
   "outputs": [],
   "source": [
    "books2= books.drop(columns=['work_id','id','book_id','best_book_id','best_book_id','isbn13','original_publication_year',\"image_url\",\"small_image_url\"])"
   ]
  },
  {
   "cell_type": "code",
   "execution_count": 17,
   "metadata": {},
   "outputs": [
    {
     "data": {
      "text/html": [
       "<div>\n",
       "<style scoped>\n",
       "    .dataframe tbody tr th:only-of-type {\n",
       "        vertical-align: middle;\n",
       "    }\n",
       "\n",
       "    .dataframe tbody tr th {\n",
       "        vertical-align: top;\n",
       "    }\n",
       "\n",
       "    .dataframe thead th {\n",
       "        text-align: right;\n",
       "    }\n",
       "</style>\n",
       "<table border=\"1\" class=\"dataframe\">\n",
       "  <thead>\n",
       "    <tr style=\"text-align: right;\">\n",
       "      <th></th>\n",
       "      <th>books_count</th>\n",
       "      <th>average_rating</th>\n",
       "      <th>ratings_count</th>\n",
       "      <th>work_ratings_count</th>\n",
       "      <th>work_text_reviews_count</th>\n",
       "      <th>ratings_1</th>\n",
       "      <th>ratings_2</th>\n",
       "      <th>ratings_3</th>\n",
       "      <th>ratings_4</th>\n",
       "      <th>ratings_5</th>\n",
       "    </tr>\n",
       "  </thead>\n",
       "  <tbody>\n",
       "    <tr>\n",
       "      <th>books_count</th>\n",
       "      <td>1.000000</td>\n",
       "      <td>-0.069888</td>\n",
       "      <td>0.324235</td>\n",
       "      <td>0.333664</td>\n",
       "      <td>0.198698</td>\n",
       "      <td>0.225763</td>\n",
       "      <td>0.334923</td>\n",
       "      <td>0.383699</td>\n",
       "      <td>0.349564</td>\n",
       "      <td>0.279559</td>\n",
       "    </tr>\n",
       "    <tr>\n",
       "      <th>average_rating</th>\n",
       "      <td>-0.069888</td>\n",
       "      <td>1.000000</td>\n",
       "      <td>0.044990</td>\n",
       "      <td>0.045042</td>\n",
       "      <td>0.007481</td>\n",
       "      <td>-0.077997</td>\n",
       "      <td>-0.115875</td>\n",
       "      <td>-0.065237</td>\n",
       "      <td>0.036108</td>\n",
       "      <td>0.115412</td>\n",
       "    </tr>\n",
       "    <tr>\n",
       "      <th>ratings_count</th>\n",
       "      <td>0.324235</td>\n",
       "      <td>0.044990</td>\n",
       "      <td>1.000000</td>\n",
       "      <td>0.995068</td>\n",
       "      <td>0.779635</td>\n",
       "      <td>0.723144</td>\n",
       "      <td>0.845949</td>\n",
       "      <td>0.935193</td>\n",
       "      <td>0.978869</td>\n",
       "      <td>0.964046</td>\n",
       "    </tr>\n",
       "    <tr>\n",
       "      <th>work_ratings_count</th>\n",
       "      <td>0.333664</td>\n",
       "      <td>0.045042</td>\n",
       "      <td>0.995068</td>\n",
       "      <td>1.000000</td>\n",
       "      <td>0.807009</td>\n",
       "      <td>0.718718</td>\n",
       "      <td>0.848581</td>\n",
       "      <td>0.941182</td>\n",
       "      <td>0.987764</td>\n",
       "      <td>0.966587</td>\n",
       "    </tr>\n",
       "    <tr>\n",
       "      <th>work_text_reviews_count</th>\n",
       "      <td>0.198698</td>\n",
       "      <td>0.007481</td>\n",
       "      <td>0.779635</td>\n",
       "      <td>0.807009</td>\n",
       "      <td>1.000000</td>\n",
       "      <td>0.572007</td>\n",
       "      <td>0.696880</td>\n",
       "      <td>0.762214</td>\n",
       "      <td>0.817826</td>\n",
       "      <td>0.764940</td>\n",
       "    </tr>\n",
       "    <tr>\n",
       "      <th>ratings_1</th>\n",
       "      <td>0.225763</td>\n",
       "      <td>-0.077997</td>\n",
       "      <td>0.723144</td>\n",
       "      <td>0.718718</td>\n",
       "      <td>0.572007</td>\n",
       "      <td>1.000000</td>\n",
       "      <td>0.926140</td>\n",
       "      <td>0.795364</td>\n",
       "      <td>0.672986</td>\n",
       "      <td>0.597231</td>\n",
       "    </tr>\n",
       "    <tr>\n",
       "      <th>ratings_2</th>\n",
       "      <td>0.334923</td>\n",
       "      <td>-0.115875</td>\n",
       "      <td>0.845949</td>\n",
       "      <td>0.848581</td>\n",
       "      <td>0.696880</td>\n",
       "      <td>0.926140</td>\n",
       "      <td>1.000000</td>\n",
       "      <td>0.949596</td>\n",
       "      <td>0.838298</td>\n",
       "      <td>0.705747</td>\n",
       "    </tr>\n",
       "    <tr>\n",
       "      <th>ratings_3</th>\n",
       "      <td>0.383699</td>\n",
       "      <td>-0.065237</td>\n",
       "      <td>0.935193</td>\n",
       "      <td>0.941182</td>\n",
       "      <td>0.762214</td>\n",
       "      <td>0.795364</td>\n",
       "      <td>0.949596</td>\n",
       "      <td>1.000000</td>\n",
       "      <td>0.952998</td>\n",
       "      <td>0.825550</td>\n",
       "    </tr>\n",
       "    <tr>\n",
       "      <th>ratings_4</th>\n",
       "      <td>0.349564</td>\n",
       "      <td>0.036108</td>\n",
       "      <td>0.978869</td>\n",
       "      <td>0.987764</td>\n",
       "      <td>0.817826</td>\n",
       "      <td>0.672986</td>\n",
       "      <td>0.838298</td>\n",
       "      <td>0.952998</td>\n",
       "      <td>1.000000</td>\n",
       "      <td>0.933785</td>\n",
       "    </tr>\n",
       "    <tr>\n",
       "      <th>ratings_5</th>\n",
       "      <td>0.279559</td>\n",
       "      <td>0.115412</td>\n",
       "      <td>0.964046</td>\n",
       "      <td>0.966587</td>\n",
       "      <td>0.764940</td>\n",
       "      <td>0.597231</td>\n",
       "      <td>0.705747</td>\n",
       "      <td>0.825550</td>\n",
       "      <td>0.933785</td>\n",
       "      <td>1.000000</td>\n",
       "    </tr>\n",
       "  </tbody>\n",
       "</table>\n",
       "</div>"
      ],
      "text/plain": [
       "                         books_count  average_rating  ratings_count  \\\n",
       "books_count                 1.000000       -0.069888       0.324235   \n",
       "average_rating             -0.069888        1.000000       0.044990   \n",
       "ratings_count               0.324235        0.044990       1.000000   \n",
       "work_ratings_count          0.333664        0.045042       0.995068   \n",
       "work_text_reviews_count     0.198698        0.007481       0.779635   \n",
       "ratings_1                   0.225763       -0.077997       0.723144   \n",
       "ratings_2                   0.334923       -0.115875       0.845949   \n",
       "ratings_3                   0.383699       -0.065237       0.935193   \n",
       "ratings_4                   0.349564        0.036108       0.978869   \n",
       "ratings_5                   0.279559        0.115412       0.964046   \n",
       "\n",
       "                         work_ratings_count  work_text_reviews_count  \\\n",
       "books_count                        0.333664                 0.198698   \n",
       "average_rating                     0.045042                 0.007481   \n",
       "ratings_count                      0.995068                 0.779635   \n",
       "work_ratings_count                 1.000000                 0.807009   \n",
       "work_text_reviews_count            0.807009                 1.000000   \n",
       "ratings_1                          0.718718                 0.572007   \n",
       "ratings_2                          0.848581                 0.696880   \n",
       "ratings_3                          0.941182                 0.762214   \n",
       "ratings_4                          0.987764                 0.817826   \n",
       "ratings_5                          0.966587                 0.764940   \n",
       "\n",
       "                         ratings_1  ratings_2  ratings_3  ratings_4  ratings_5  \n",
       "books_count               0.225763   0.334923   0.383699   0.349564   0.279559  \n",
       "average_rating           -0.077997  -0.115875  -0.065237   0.036108   0.115412  \n",
       "ratings_count             0.723144   0.845949   0.935193   0.978869   0.964046  \n",
       "work_ratings_count        0.718718   0.848581   0.941182   0.987764   0.966587  \n",
       "work_text_reviews_count   0.572007   0.696880   0.762214   0.817826   0.764940  \n",
       "ratings_1                 1.000000   0.926140   0.795364   0.672986   0.597231  \n",
       "ratings_2                 0.926140   1.000000   0.949596   0.838298   0.705747  \n",
       "ratings_3                 0.795364   0.949596   1.000000   0.952998   0.825550  \n",
       "ratings_4                 0.672986   0.838298   0.952998   1.000000   0.933785  \n",
       "ratings_5                 0.597231   0.705747   0.825550   0.933785   1.000000  "
      ]
     },
     "execution_count": 17,
     "metadata": {},
     "output_type": "execute_result"
    }
   ],
   "source": [
    "books2.corr()"
   ]
  },
  {
   "cell_type": "code",
   "execution_count": 18,
   "metadata": {},
   "outputs": [],
   "source": [
    "training_df, validation_df =ratings_df.randomSplit([.7,.3])"
   ]
  },
  {
   "cell_type": "code",
   "execution_count": 19,
   "metadata": {},
   "outputs": [
    {
     "name": "stdout",
     "output_type": "stream",
     "text": [
      "Square error 10.432807399281522 rank :2 Lambda :0.1 iteration :2\n",
      "Square error 0.9282566297757835 rank :2 Lambda :0.1 iteration :5\n",
      "Square error 0.7910170953113383 rank :2 Lambda :0.1 iteration :8\n",
      "Square error 5.316616516380464 rank :5 Lambda :0.1 iteration :2\n",
      "Square error 0.9214222203814534 rank :5 Lambda :0.1 iteration :5\n",
      "Square error 0.8440542094343635 rank :5 Lambda :0.1 iteration :8\n",
      "Square error 8.26479797697769 rank :8 Lambda :0.1 iteration :2\n",
      "Square error 1.03393527650753 rank :8 Lambda :0.1 iteration :5\n",
      "Square error 0.8714593855961055 rank :8 Lambda :0.1 iteration :8\n",
      "Square error 13.486254382197512 rank :2 Lambda :0.01 iteration :2\n",
      "Square error 2.0246399676207196 rank :2 Lambda :0.01 iteration :5\n",
      "Square error 1.050417722020497 rank :2 Lambda :0.01 iteration :8\n",
      "Square error 11.06082754052713 rank :5 Lambda :0.01 iteration :2\n",
      "Square error 2.1313919066242604 rank :5 Lambda :0.01 iteration :5\n",
      "Square error 1.4532905622949555 rank :5 Lambda :0.01 iteration :8\n",
      "Square error 17.316090442991094 rank :8 Lambda :0.01 iteration :2\n",
      "Square error 3.8541250923916244 rank :8 Lambda :0.01 iteration :5\n",
      "Square error 2.2819916748120534 rank :8 Lambda :0.01 iteration :8\n",
      "0.7910170953113383 (0.1, 2, 8)\n"
     ]
    }
   ],
   "source": [
    "iteration=(2,5,8)\n",
    "rank=(2,5,8)\n",
    "Lambda=(0.1,0.01)\n",
    "tmp=1\n",
    "for i in Lambda:\n",
    "    for j in rank:\n",
    "        for k in iteration:\n",
    "            count=+1\n",
    "            als = ALS( seed=5036,maxIter=k ,regParam=i ,rank=j,userCol=\"user_id\",itemCol=\"book_id\",ratingCol=\"rating\")\n",
    "            model=als.fit(training_df)\n",
    "            predictions=model.transform(validation_df)\n",
    "            new_predictions=predictions.filter(col('prediction') != np.nan)\n",
    "            evaluator=RegressionEvaluator(metricName=\"mse\", labelCol=\"rating\" , predictionCol=\"prediction\")\n",
    "            mse=evaluator.evaluate(new_predictions)\n",
    "            print( \"Square error \"+ str(mse)+ \" rank :\" + str(j)+ \" Lambda :\" + str(i)+ \" iteration :\" + str(k) )\n",
    "            if mse<tmp:\n",
    "                tmp=mse\n",
    "                values=(i,j,k)\n",
    "\n",
    "print(tmp , values)"
   ]
  },
  {
   "cell_type": "code",
   "execution_count": 20,
   "metadata": {},
   "outputs": [],
   "source": [
    "als = ALS( seed=5036, maxIter=values[2] ,regParam=values[0] ,rank=values[1],userCol=\"user_id\",itemCol=\"book_id\",ratingCol=\"rating\")\n",
    "model=als.fit(training_df)\n",
    "predictions=model.transform(validation_df)\n",
    "#new_predictions=predictions.filter(col('prediction') != np.nan)"
   ]
  },
  {
   "cell_type": "code",
   "execution_count": 21,
   "metadata": {},
   "outputs": [
    {
     "name": "stdout",
     "output_type": "stream",
     "text": [
      "+-------+----------+------+----------+\n",
      "|user_id|     title|rating|prediction|\n",
      "+-------+----------+------+----------+\n",
      "|  35982|Lysistrata|     5| 3.6381824|\n",
      "|   6213|Lysistrata|     4| 2.8602593|\n",
      "|   2331|Lysistrata|     4| 3.2391145|\n",
      "|  11326|Lysistrata|     5|  4.017892|\n",
      "|  12466|Lysistrata|     3| 3.5969021|\n",
      "+-------+----------+------+----------+\n",
      "only showing top 5 rows\n",
      "\n"
     ]
    }
   ],
   "source": [
    "predictions.join(books_df,\"book_id\").select(\"user_id\",\"title\",\"rating\",\"prediction\").show(5)"
   ]
  },
  {
   "cell_type": "code",
   "execution_count": 22,
   "metadata": {},
   "outputs": [
    {
     "data": {
      "text/plain": [
       "6"
      ]
     },
     "execution_count": 22,
     "metadata": {},
     "output_type": "execute_result"
    }
   ],
   "source": [
    "for_one_user = predictions.filter(col(\"user_id\")==35982).join(books_df,\"book_id\").select(\"user_id\",\"title\",'rating','prediction')\n",
    "for_one_user.count()"
   ]
  },
  {
   "cell_type": "code",
   "execution_count": 23,
   "metadata": {},
   "outputs": [
    {
     "name": "stdout",
     "output_type": "stream",
     "text": [
      "+-------+--------------------+------+----------+\n",
      "|user_id|               title|rating|prediction|\n",
      "+-------+--------------------+------+----------+\n",
      "|  35982|          Lysistrata|     5| 3.6381824|\n",
      "|  35982|The Innocent Man:...|     4| 2.9283924|\n",
      "|  35982|The Language Inst...|     4| 3.4742417|\n",
      "|  35982|Another Bullshit ...|     5| 3.7423995|\n",
      "|  35982|    Tropic of Cancer|     1| 3.5255852|\n",
      "|  35982|J.R.R. Tolkien 4-...|     4| 3.2933319|\n",
      "+-------+--------------------+------+----------+\n",
      "\n"
     ]
    }
   ],
   "source": [
    "for_one_user.show()"
   ]
  },
  {
   "cell_type": "code",
   "execution_count": 24,
   "metadata": {},
   "outputs": [
    {
     "name": "stdout",
     "output_type": "stream",
     "text": [
      "Recommnedations by ALS algorithm \n",
      " for user_id:35982\n",
      "\n",
      "\n",
      "Lysistrata\n",
      "The Innocent Man: Murder and Injustice in a Small Town\n",
      "The Language Instinct: How the Mind Creates Language\n",
      "Another Bullshit Night in Suck City\n",
      "Tropic of Cancer\n"
     ]
    }
   ],
   "source": [
    "print(\"Recommnedations by ALS algorithm \\n for user_id:35982\\n\\n\")\n",
    "for book in for_one_user.take(5):\n",
    "    print(book.title)"
   ]
  },
  {
   "cell_type": "code",
   "execution_count": 25,
   "metadata": {},
   "outputs": [],
   "source": [
    "#Generate top 5books recomendations for each user\n",
    "userRecomments = model.recommendForAllUsers(5)\n",
    "bookRecomments=model.recommendForAllItems(5)"
   ]
  },
  {
   "cell_type": "code",
   "execution_count": 26,
   "metadata": {},
   "outputs": [
    {
     "name": "stdout",
     "output_type": "stream",
     "text": [
      "+-------+------------------------------+\n",
      "|user_id|book_id                       |\n",
      "+-------+------------------------------+\n",
      "|148    |[6590, 3628, 5207, 6920, 1788]|\n",
      "|463    |[862, 192, 3628, 6902, 4868]  |\n",
      "|471    |[1338, 66, 1827, 8235, 949]   |\n",
      "|496    |[6590, 5207, 3628, 6920, 3885]|\n",
      "|833    |[3953, 4336, 3885, 5207, 5161]|\n",
      "|1088   |[3628, 6590, 6920, 5207, 862] |\n",
      "|1238   |[862, 3628, 6920, 192, 6590]  |\n",
      "|1342   |[5207, 6590, 4336, 3885, 3191]|\n",
      "|1580   |[3628, 862, 6590, 6920, 3491] |\n",
      "|1591   |[5207, 6590, 3628, 6920, 3885]|\n",
      "+-------+------------------------------+\n",
      "only showing top 10 rows\n",
      "\n"
     ]
    }
   ],
   "source": [
    "userRecomments.select(\"user_id\",\"recommendations.book_id\").show(10,False)"
   ]
  },
  {
   "cell_type": "code",
   "execution_count": null,
   "metadata": {},
   "outputs": [],
   "source": []
  }
 ],
 "metadata": {
  "kernelspec": {
   "display_name": "Python 3",
   "language": "python",
   "name": "python3"
  },
  "language_info": {
   "codemirror_mode": {
    "name": "ipython",
    "version": 3
   },
   "file_extension": ".py",
   "mimetype": "text/x-python",
   "name": "python",
   "nbconvert_exporter": "python",
   "pygments_lexer": "ipython3",
   "version": "3.7.6"
  }
 },
 "nbformat": 4,
 "nbformat_minor": 4
}
